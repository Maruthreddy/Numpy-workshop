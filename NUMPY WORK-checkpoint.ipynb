{
 "cells": [
  {
   "cell_type": "markdown",
   "id": "dbbfcd70",
   "metadata": {},
   "source": [
    "# NUMPY CODE:-"
   ]
  },
  {
   "cell_type": "markdown",
   "id": "c6c2e01c",
   "metadata": {},
   "source": [
    "# 1. ..."
   ]
  },
  {
   "cell_type": "code",
   "execution_count": 1,
   "id": "e4833c54",
   "metadata": {},
   "outputs": [],
   "source": [
    "import numpy as np\n"
   ]
  },
  {
   "cell_type": "code",
   "execution_count": 2,
   "id": "86a37ebb",
   "metadata": {},
   "outputs": [
    {
     "name": "stdout",
     "output_type": "stream",
     "text": [
      "[[[ 1  2]\n",
      "  [ 3  4]\n",
      "  [ 5  6]]\n",
      "\n",
      " [[ 7  8]\n",
      "  [ 9 10]\n",
      "  [11 12]]]\n",
      "[[ 1  2  3]\n",
      " [ 4  5  6]\n",
      " [ 7  8  9]\n",
      " [10 11 12]]\n"
     ]
    }
   ],
   "source": [
    "import numpy as np\n",
    "\n",
    "arr = np.array([1, 2, 3, 4, 5, 6, 7, 8, 9, 10, 11, 12]) # THIS IS 1D ARRAY\n",
    "\n",
    "newarr1 = arr.reshape(2, 3, 2) # WITH RESHAPE FUNCTION NOW CONVERTED IT INTO 3D ARRAY\n",
    "newarr2 = arr.reshape(4,3) # WITH RESHAPE FUNCTION NOW CONVERTED IT INTO 2D ARRAY - not required now.\n",
    "\n",
    "print(newarr1)\n",
    "\n",
    "\n",
    "print(newarr2)\n"
   ]
  },
  {
   "cell_type": "code",
   "execution_count": 3,
   "id": "18eba3ed",
   "metadata": {},
   "outputs": [
    {
     "data": {
      "text/plain": [
       "array([[[ 1,  2],\n",
       "        [ 3,  4],\n",
       "        [ 5,  6]],\n",
       "\n",
       "       [[ 7,  8],\n",
       "        [ 9, 10],\n",
       "        [11, 12]]])"
      ]
     },
     "execution_count": 3,
     "metadata": {},
     "output_type": "execute_result"
    }
   ],
   "source": [
    "newarr1\n"
   ]
  },
  {
   "cell_type": "code",
   "execution_count": 4,
   "id": "895ac14a",
   "metadata": {},
   "outputs": [
    {
     "name": "stdout",
     "output_type": "stream",
     "text": [
      "[Ellipsis, 2]\n"
     ]
    }
   ],
   "source": [
    "newarr1 = [...,2]\n",
    "print(newarr1)\n"
   ]
  },
  {
   "cell_type": "code",
   "execution_count": 5,
   "id": "57564de9",
   "metadata": {},
   "outputs": [
    {
     "name": "stdout",
     "output_type": "stream",
     "text": [
      "[1, Ellipsis]\n"
     ]
    }
   ],
   "source": [
    "newarr1 =[1,...]\n",
    "print(newarr1)"
   ]
  },
  {
   "cell_type": "markdown",
   "id": "7f6150a0",
   "metadata": {},
   "source": [
    "# 2. []"
   ]
  },
  {
   "cell_type": "code",
   "execution_count": 6,
   "id": "d309f0fe",
   "metadata": {},
   "outputs": [
    {
     "name": "stdout",
     "output_type": "stream",
     "text": [
      "[ 0  1  2  3  4  5  6  7  8  9 10 11 12 13 14 15 16 17 18 19]\n"
     ]
    }
   ],
   "source": [
    "import numpy as np\n",
    "b = np.arange(0,20)\n",
    "print(b)"
   ]
  },
  {
   "cell_type": "code",
   "execution_count": 7,
   "id": "74994b37",
   "metadata": {},
   "outputs": [
    {
     "name": "stdout",
     "output_type": "stream",
     "text": [
      "[[ 0  1  2  3]\n",
      " [ 4  5  6  7]\n",
      " [ 8  9 10 11]\n",
      " [12 13 14 15]\n",
      " [16 17 18 19]]\n"
     ]
    }
   ],
   "source": [
    "b1 = np.reshape(b,(5,4))\n",
    "print(b1)"
   ]
  },
  {
   "cell_type": "code",
   "execution_count": 8,
   "id": "6b257b18",
   "metadata": {},
   "outputs": [
    {
     "data": {
      "text/plain": [
       "0"
      ]
     },
     "execution_count": 8,
     "metadata": {},
     "output_type": "execute_result"
    }
   ],
   "source": [
    "b1[0,0]"
   ]
  },
  {
   "cell_type": "code",
   "execution_count": 9,
   "id": "30135b63",
   "metadata": {},
   "outputs": [
    {
     "data": {
      "text/plain": [
       "array([16, 17, 18, 19])"
      ]
     },
     "execution_count": 9,
     "metadata": {},
     "output_type": "execute_result"
    }
   ],
   "source": [
    "b1[-1]"
   ]
  },
  {
   "cell_type": "code",
   "execution_count": 10,
   "id": "2db77e94",
   "metadata": {},
   "outputs": [
    {
     "data": {
      "text/plain": [
       "array([[ 5,  6,  7],\n",
       "       [ 9, 10, 11]])"
      ]
     },
     "execution_count": 10,
     "metadata": {},
     "output_type": "execute_result"
    }
   ],
   "source": [
    "b1[1:3, 1:4]"
   ]
  },
  {
   "cell_type": "code",
   "execution_count": 11,
   "id": "94b2cc27",
   "metadata": {},
   "outputs": [
    {
     "data": {
      "text/plain": [
       "array([[ 0,  1,  2,  3],\n",
       "       [ 4,  5,  6,  7],\n",
       "       [ 8,  9, 10, 11],\n",
       "       [12, 13, 14, 15],\n",
       "       [16, 17, 18, 19]])"
      ]
     },
     "execution_count": 11,
     "metadata": {},
     "output_type": "execute_result"
    }
   ],
   "source": [
    "b1"
   ]
  },
  {
   "cell_type": "code",
   "execution_count": 12,
   "id": "3e76737b",
   "metadata": {},
   "outputs": [
    {
     "data": {
      "text/plain": [
       "array([[False, False, False, False],\n",
       "       [False, False, False, False],\n",
       "       [False, False, False, False],\n",
       "       [False, False, False, False],\n",
       "       [ True,  True,  True,  True]])"
      ]
     },
     "execution_count": 12,
     "metadata": {},
     "output_type": "execute_result"
    }
   ],
   "source": [
    "b1>15\n"
   ]
  },
  {
   "cell_type": "code",
   "execution_count": 13,
   "id": "0af331c4",
   "metadata": {},
   "outputs": [
    {
     "data": {
      "text/plain": [
       "array([[ True,  True,  True,  True],\n",
       "       [ True,  True,  True,  True],\n",
       "       [ True,  True,  True,  True],\n",
       "       [ True,  True,  True,  True],\n",
       "       [False, False, False, False]])"
      ]
     },
     "execution_count": 13,
     "metadata": {},
     "output_type": "execute_result"
    }
   ],
   "source": [
    "b1<=15"
   ]
  },
  {
   "cell_type": "code",
   "execution_count": 14,
   "id": "a42d6575",
   "metadata": {},
   "outputs": [
    {
     "name": "stdout",
     "output_type": "stream",
     "text": [
      "[[ 0  1  2  3  4]\n",
      " [10 11 12 13 14]\n",
      " [20 21 22 23 24]\n",
      " [30 31 32 33 34]]\n"
     ]
    }
   ],
   "source": [
    "a = np.array([ [ 0, 1, 2, 3, 4],[10,11,12,13,14],[20,21,22,23,24],[30,31,32,33,34] ])\n",
    "c = np.array( [True,False,True,False] ) # boolean row selector\n",
    "print(a)"
   ]
  },
  {
   "cell_type": "code",
   "execution_count": 15,
   "id": "bbca74cf",
   "metadata": {},
   "outputs": [
    {
     "data": {
      "text/plain": [
       "array([[ 0,  1,  2,  3,  4],\n",
       "       [20, 21, 22, 23, 24]])"
      ]
     },
     "execution_count": 15,
     "metadata": {},
     "output_type": "execute_result"
    }
   ],
   "source": [
    "a[c,:]"
   ]
  },
  {
   "cell_type": "code",
   "execution_count": 16,
   "id": "7bd987da",
   "metadata": {},
   "outputs": [
    {
     "data": {
      "text/plain": [
       "array([[ 1,  2,  4],\n",
       "       [11, 12, 14],\n",
       "       [21, 22, 24],\n",
       "       [31, 32, 34]])"
      ]
     },
     "execution_count": 16,
     "metadata": {},
     "output_type": "execute_result"
    }
   ],
   "source": [
    "d =  np.array([False,True,True,False,True])  # boolean column selector\n",
    "a[:,d]"
   ]
  },
  {
   "cell_type": "code",
   "execution_count": 17,
   "id": "7d9fe386",
   "metadata": {},
   "outputs": [
    {
     "data": {
      "text/plain": [
       "array([[ 0,  1,  2,  3,  4],\n",
       "       [10, 11, 12, 13, 14],\n",
       "       [20, 21, 22, 23, 24],\n",
       "       [30, 31, 32, 33, 34]])"
      ]
     },
     "execution_count": 17,
     "metadata": {},
     "output_type": "execute_result"
    }
   ],
   "source": [
    " a\n"
   ]
  },
  {
   "cell_type": "code",
   "execution_count": 18,
   "id": "8f138ec8",
   "metadata": {},
   "outputs": [],
   "source": [
    "i = np.array([0, 1, 2, 1]) # array of indices for the first axis\n",
    "j = np.array([1,2,3,4]) # array of indices for the second axis"
   ]
  },
  {
   "cell_type": "code",
   "execution_count": 19,
   "id": "91c6cbbc",
   "metadata": {},
   "outputs": [
    {
     "data": {
      "text/plain": [
       "array([ 1, 12, 23, 14])"
      ]
     },
     "execution_count": 19,
     "metadata": {},
     "output_type": "execute_result"
    }
   ],
   "source": [
    "a[i,j]"
   ]
  },
  {
   "cell_type": "markdown",
   "id": "616b1367",
   "metadata": {},
   "source": [
    "# 3. abs() & 4. ABSOLUTE - both are same- Synonym for abs()"
   ]
  },
  {
   "cell_type": "code",
   "execution_count": 20,
   "id": "5da8f2f8",
   "metadata": {},
   "outputs": [
    {
     "data": {
      "text/plain": [
       "array([[-4, -3, -2],\n",
       "       [-1,  0,  1],\n",
       "       [ 2,  3,  4]])"
      ]
     },
     "execution_count": 20,
     "metadata": {},
     "output_type": "execute_result"
    }
   ],
   "source": [
    "import numpy as np\n",
    "ARR = np.arange(-4,5).reshape(3,3)\n",
    "ARR\n"
   ]
  },
  {
   "cell_type": "code",
   "execution_count": 21,
   "id": "79590bb5",
   "metadata": {},
   "outputs": [
    {
     "data": {
      "text/plain": [
       "array([[4, 3, 2],\n",
       "       [1, 0, 1],\n",
       "       [2, 3, 4]])"
      ]
     },
     "execution_count": 21,
     "metadata": {},
     "output_type": "execute_result"
    }
   ],
   "source": [
    "abs(ARR)"
   ]
  },
  {
   "cell_type": "code",
   "execution_count": 22,
   "id": "527c5a12",
   "metadata": {},
   "outputs": [
    {
     "data": {
      "text/plain": [
       "(1.2+5j)"
      ]
     },
     "execution_count": 22,
     "metadata": {},
     "output_type": "execute_result"
    }
   ],
   "source": [
    "ARR1 = 1.2 + 5j\n",
    "ARR1\n"
   ]
  },
  {
   "cell_type": "code",
   "execution_count": 23,
   "id": "0579ffe0",
   "metadata": {},
   "outputs": [
    {
     "data": {
      "text/plain": [
       "5.141984052872976"
      ]
     },
     "execution_count": 23,
     "metadata": {},
     "output_type": "execute_result"
    }
   ],
   "source": [
    "abs(ARR1) #UNNDER-ROOT OF Square of of real part & imaginary part"
   ]
  },
  {
   "cell_type": "code",
   "execution_count": 24,
   "id": "79313377",
   "metadata": {},
   "outputs": [
    {
     "data": {
      "text/plain": [
       "5.141984052872976"
      ]
     },
     "execution_count": 24,
     "metadata": {},
     "output_type": "execute_result"
    }
   ],
   "source": [
    "np.absolute(ARR1) "
   ]
  },
  {
   "cell_type": "code",
   "execution_count": 25,
   "id": "84381748",
   "metadata": {},
   "outputs": [
    {
     "data": {
      "text/plain": [
       "array([10, 15])"
      ]
     },
     "execution_count": 25,
     "metadata": {},
     "output_type": "execute_result"
    }
   ],
   "source": [
    "np.absolute([-10, -15])"
   ]
  },
  {
   "cell_type": "markdown",
   "id": "e85e8b55",
   "metadata": {},
   "source": [
    "# 5. accumulate \n",
    " -computes the sum of the given initial value and the elements in the given range\n",
    " "
   ]
  },
  {
   "cell_type": "code",
   "execution_count": 26,
   "id": "de200e0d",
   "metadata": {},
   "outputs": [],
   "source": [
    "import numpy as np"
   ]
  },
  {
   "cell_type": "code",
   "execution_count": 27,
   "id": "27e5d440",
   "metadata": {},
   "outputs": [
    {
     "name": "stdout",
     "output_type": "stream",
     "text": [
      "[0 1 2 3 4 5 6 7 8 9]\n"
     ]
    }
   ],
   "source": [
    "A1 = np.arange(0,10) \n",
    "print(A1) "
   ]
  },
  {
   "cell_type": "code",
   "execution_count": 28,
   "id": "5a0fcf02",
   "metadata": {},
   "outputs": [
    {
     "data": {
      "text/plain": [
       "array([ 0,  1,  3,  6, 10, 15, 21, 28, 36, 45])"
      ]
     },
     "execution_count": 28,
     "metadata": {},
     "output_type": "execute_result"
    }
   ],
   "source": [
    "np.add.accumulate(A1) # Progressive SUM "
   ]
  },
  {
   "cell_type": "code",
   "execution_count": 29,
   "id": "ce9c09ad",
   "metadata": {},
   "outputs": [],
   "source": [
    "A2 = np.arange(1,6)"
   ]
  },
  {
   "cell_type": "code",
   "execution_count": 30,
   "id": "d2a9d41f",
   "metadata": {},
   "outputs": [
    {
     "data": {
      "text/plain": [
       "array([  1,   2,   6,  24, 120])"
      ]
     },
     "execution_count": 30,
     "metadata": {},
     "output_type": "execute_result"
    }
   ],
   "source": [
    "np.multiply.accumulate(A2)"
   ]
  },
  {
   "cell_type": "code",
   "execution_count": 31,
   "id": "b8938ba7",
   "metadata": {},
   "outputs": [
    {
     "data": {
      "text/plain": [
       "array([[1, 2, 3],\n",
       "       [4, 5, 6]])"
      ]
     },
     "execution_count": 31,
     "metadata": {},
     "output_type": "execute_result"
    }
   ],
   "source": [
    "AC = np.array([[1,2,3],[4,5,6]])\n",
    "AC"
   ]
  },
  {
   "cell_type": "code",
   "execution_count": 32,
   "id": "722efb15",
   "metadata": {},
   "outputs": [
    {
     "data": {
      "text/plain": [
       "array([[1, 2, 3],\n",
       "       [5, 7, 9]])"
      ]
     },
     "execution_count": 32,
     "metadata": {},
     "output_type": "execute_result"
    }
   ],
   "source": [
    "np.add.accumulate(AC) # EVERY COLOMN GOT ACCUMULATE"
   ]
  },
  {
   "cell_type": "code",
   "execution_count": 33,
   "id": "bfba96dc",
   "metadata": {},
   "outputs": [
    {
     "data": {
      "text/plain": [
       "array([[ 1,  2,  3],\n",
       "       [ 4, 10, 18]])"
      ]
     },
     "execution_count": 33,
     "metadata": {},
     "output_type": "execute_result"
    }
   ],
   "source": [
    "np.multiply.accumulate(AC)"
   ]
  },
  {
   "cell_type": "markdown",
   "id": "4aa5ab94",
   "metadata": {},
   "source": [
    "# 6. add"
   ]
  },
  {
   "cell_type": "code",
   "execution_count": 34,
   "id": "38519aa1",
   "metadata": {},
   "outputs": [],
   "source": [
    "import numpy as np"
   ]
  },
  {
   "cell_type": "code",
   "execution_count": 35,
   "id": "178493bb",
   "metadata": {},
   "outputs": [
    {
     "name": "stdout",
     "output_type": "stream",
     "text": [
      "[2, -6] [1, 3] [2.2, 8.7] [7, -3]\n"
     ]
    }
   ],
   "source": [
    "ar1 = [2, -6]\n",
    "ar2 = [1, 3]\n",
    "ar3 = [2.2, 8.7]\n",
    "ar4 = [7, -3]\n",
    "print(ar1, ar2, ar3,  ar4)"
   ]
  },
  {
   "cell_type": "code",
   "execution_count": 36,
   "id": "8cb0353d",
   "metadata": {},
   "outputs": [
    {
     "data": {
      "text/plain": [
       "array([ 3, -3])"
      ]
     },
     "execution_count": 36,
     "metadata": {},
     "output_type": "execute_result"
    }
   ],
   "source": [
    "np.add(ar1, ar2)"
   ]
  },
  {
   "cell_type": "code",
   "execution_count": 37,
   "id": "22b51dff",
   "metadata": {},
   "outputs": [
    {
     "data": {
      "text/plain": [
       "array([9.2, 5.7])"
      ]
     },
     "execution_count": 37,
     "metadata": {},
     "output_type": "execute_result"
    }
   ],
   "source": [
    "np.add(ar3, ar4)"
   ]
  },
  {
   "cell_type": "code",
   "execution_count": 66,
   "id": "64a53fd2",
   "metadata": {},
   "outputs": [],
   "source": [
    "C1 = 5+2j"
   ]
  },
  {
   "cell_type": "code",
   "execution_count": 67,
   "id": "aca215d9",
   "metadata": {},
   "outputs": [
    {
     "data": {
      "text/plain": [
       "array([ 7.2+2.j, 13.7+2.j])"
      ]
     },
     "execution_count": 67,
     "metadata": {},
     "output_type": "execute_result"
    }
   ],
   "source": [
    "np.add(ar3, C1)"
   ]
  },
  {
   "cell_type": "markdown",
   "id": "f09cc769",
   "metadata": {},
   "source": [
    "# 7. all\n",
    "- Test whether all array elements along a given axis evaluate to True"
   ]
  },
  {
   "cell_type": "code",
   "execution_count": 72,
   "id": "f7b0e555",
   "metadata": {},
   "outputs": [
    {
     "data": {
      "text/plain": [
       "array([0, 1, 2, 3, 4, 5, 6, 7, 8, 9])"
      ]
     },
     "execution_count": 72,
     "metadata": {},
     "output_type": "execute_result"
    }
   ],
   "source": [
    "a = np.arange(0,10)\n",
    "a"
   ]
  },
  {
   "cell_type": "code",
   "execution_count": 73,
   "id": "f9c12751",
   "metadata": {},
   "outputs": [
    {
     "data": {
      "text/plain": [
       "False"
      ]
     },
     "execution_count": 73,
     "metadata": {},
     "output_type": "execute_result"
    }
   ],
   "source": [
    "np.all(a>5)"
   ]
  },
  {
   "cell_type": "code",
   "execution_count": 74,
   "id": "34f42d12",
   "metadata": {},
   "outputs": [
    {
     "data": {
      "text/plain": [
       "True"
      ]
     },
     "execution_count": 74,
     "metadata": {},
     "output_type": "execute_result"
    }
   ],
   "source": [
    "np.all(a>=0)"
   ]
  },
  {
   "cell_type": "code",
   "execution_count": 98,
   "id": "6abe60fc",
   "metadata": {},
   "outputs": [
    {
     "data": {
      "text/plain": [
       "False"
      ]
     },
     "execution_count": 98,
     "metadata": {},
     "output_type": "execute_result"
    }
   ],
   "source": [
    "b7 = np.array([True, False, True, True])\n",
    "np.all(b7)"
   ]
  },
  {
   "cell_type": "markdown",
   "id": "06e32c16",
   "metadata": {},
   "source": [
    "# 8. allclose\n",
    "-Returns True if two arrays are element-wise equal within a tolerance.\n",
    "\n",
    "https://numpy.org/doc/stable/reference/generated/numpy.allclose.html"
   ]
  },
  {
   "cell_type": "code",
   "execution_count": 88,
   "id": "98a9fe55",
   "metadata": {},
   "outputs": [
    {
     "data": {
      "text/plain": [
       "False"
      ]
     },
     "execution_count": 88,
     "metadata": {},
     "output_type": "execute_result"
    }
   ],
   "source": [
    "np.allclose([0.1, 0.003], [0.11, 0.003])"
   ]
  },
  {
   "cell_type": "code",
   "execution_count": 87,
   "id": "5ef9138b",
   "metadata": {},
   "outputs": [
    {
     "data": {
      "text/plain": [
       "True"
      ]
     },
     "execution_count": 87,
     "metadata": {},
     "output_type": "execute_result"
    }
   ],
   "source": [
    "np.allclose([0.11, 0.0033], [0.11000005, 0.00330001])"
   ]
  },
  {
   "cell_type": "code",
   "execution_count": 77,
   "id": "9c848770",
   "metadata": {},
   "outputs": [
    {
     "data": {
      "text/plain": [
       "False"
      ]
     },
     "execution_count": 77,
     "metadata": {},
     "output_type": "execute_result"
    }
   ],
   "source": [
    "np.allclose([1e10,1e-8], [1.0001e10,1e-9])"
   ]
  },
  {
   "cell_type": "code",
   "execution_count": 89,
   "id": "a6c18a5e",
   "metadata": {},
   "outputs": [
    {
     "data": {
      "text/plain": [
       "True"
      ]
     },
     "execution_count": 89,
     "metadata": {},
     "output_type": "execute_result"
    }
   ],
   "source": [
    "np.allclose([1e10,1e-8], [1.00001e10,1e-9])"
   ]
  },
  {
   "cell_type": "markdown",
   "id": "d9761cde",
   "metadata": {},
   "source": [
    "# 9. alltrue- same as all function\n"
   ]
  },
  {
   "cell_type": "code",
   "execution_count": 92,
   "id": "ba49d24d",
   "metadata": {},
   "outputs": [
    {
     "data": {
      "text/plain": [
       "False"
      ]
     },
     "execution_count": 92,
     "metadata": {},
     "output_type": "execute_result"
    }
   ],
   "source": [
    "\n",
    "b = np.array([True, False, True, True])\n",
    "np.alltrue(b)\n"
   ]
  },
  {
   "cell_type": "code",
   "execution_count": 94,
   "id": "e1d5634f",
   "metadata": {},
   "outputs": [
    {
     "data": {
      "text/plain": [
       "False"
      ]
     },
     "execution_count": 94,
     "metadata": {},
     "output_type": "execute_result"
    }
   ],
   "source": [
    "\n",
    "a = np.array([1, 5, 2, 7])\n",
    "np.alltrue(a >= 5)\n"
   ]
  },
  {
   "cell_type": "code",
   "execution_count": 95,
   "id": "dfc670cf",
   "metadata": {},
   "outputs": [
    {
     "data": {
      "text/plain": [
       "True"
      ]
     },
     "execution_count": 95,
     "metadata": {},
     "output_type": "execute_result"
    }
   ],
   "source": [
    "np.alltrue(a>0)"
   ]
  },
  {
   "cell_type": "markdown",
   "id": "63f8b368",
   "metadata": {},
   "source": [
    "# 10.angle\n",
    "\n",
    "\n",
    "- Return the angle of the complex argument"
   ]
  },
  {
   "cell_type": "code",
   "execution_count": 107,
   "id": "83b55714",
   "metadata": {},
   "outputs": [
    {
     "data": {
      "text/plain": [
       "array([0.5404195 , 1.57079633, 0.        ])"
      ]
     },
     "execution_count": 107,
     "metadata": {},
     "output_type": "execute_result"
    }
   ],
   "source": [
    "np.angle([5+3j, 1j, 1.0]) # in RADIAN UNIT\n"
   ]
  },
  {
   "cell_type": "code",
   "execution_count": 110,
   "id": "859a6f4f",
   "metadata": {},
   "outputs": [
    {
     "data": {
      "text/plain": [
       "array([30.96375653, 90.        ,  0.        ])"
      ]
     },
     "execution_count": 110,
     "metadata": {},
     "output_type": "execute_result"
    }
   ],
   "source": [
    "np.angle([5+3j, 1j, 1.0], deg=True)# in Degree"
   ]
  },
  {
   "cell_type": "code",
   "execution_count": 102,
   "id": "94540179",
   "metadata": {},
   "outputs": [
    {
     "data": {
      "text/plain": [
       "45.0"
      ]
     },
     "execution_count": 102,
     "metadata": {},
     "output_type": "execute_result"
    }
   ],
   "source": [
    "np.angle(1+1j,deg=True)"
   ]
  },
  {
   "cell_type": "code",
   "execution_count": 103,
   "id": "dc13e09b",
   "metadata": {},
   "outputs": [
    {
     "data": {
      "text/plain": [
       "0.7853981633974483"
      ]
     },
     "execution_count": 103,
     "metadata": {},
     "output_type": "execute_result"
    }
   ],
   "source": [
    "np.angle(1+1j,deg=False) # in RADIAN Unit"
   ]
  },
  {
   "cell_type": "markdown",
   "id": "63b729e2",
   "metadata": {},
   "source": [
    "# 11. any\n",
    "-gives True if at least 1 element of a is True, otherwise False"
   ]
  },
  {
   "cell_type": "code",
   "execution_count": 111,
   "id": "1b0929c8",
   "metadata": {},
   "outputs": [],
   "source": [
    "c2 = np.array([True, False, True])\n"
   ]
  },
  {
   "cell_type": "code",
   "execution_count": 119,
   "id": "3b1b367b",
   "metadata": {},
   "outputs": [
    {
     "data": {
      "text/plain": [
       "True"
      ]
     },
     "execution_count": 119,
     "metadata": {},
     "output_type": "execute_result"
    }
   ],
   "source": [
    "np.any(c2)"
   ]
  },
  {
   "cell_type": "code",
   "execution_count": 123,
   "id": "0de2a209",
   "metadata": {},
   "outputs": [
    {
     "data": {
      "text/plain": [
       "array([0, 1, 2, 3, 4, 5, 6, 7, 8, 9])"
      ]
     },
     "execution_count": 123,
     "metadata": {},
     "output_type": "execute_result"
    }
   ],
   "source": [
    "c3= np.arange(0,10)\n",
    "c3"
   ]
  },
  {
   "cell_type": "code",
   "execution_count": 127,
   "id": "c80d4ffe",
   "metadata": {},
   "outputs": [
    {
     "data": {
      "text/plain": [
       "True"
      ]
     },
     "execution_count": 127,
     "metadata": {},
     "output_type": "execute_result"
    }
   ],
   "source": [
    "any(c3>=5)"
   ]
  },
  {
   "cell_type": "markdown",
   "id": "fd688844",
   "metadata": {},
   "source": [
    "# 12. append\n",
    "-Append values to the end of an array"
   ]
  },
  {
   "cell_type": "code",
   "execution_count": 128,
   "id": "7f62a805",
   "metadata": {},
   "outputs": [],
   "source": [
    "c3= np.append([1, 2, 3], [[4, 5, 6], [7, 8, 9]])"
   ]
  },
  {
   "cell_type": "code",
   "execution_count": 129,
   "id": "bfb258cb",
   "metadata": {},
   "outputs": [
    {
     "data": {
      "text/plain": [
       "array([1, 2, 3, 4, 5, 6, 7, 8, 9])"
      ]
     },
     "execution_count": 129,
     "metadata": {},
     "output_type": "execute_result"
    }
   ],
   "source": [
    "c3"
   ]
  },
  {
   "cell_type": "code",
   "execution_count": 135,
   "id": "a0009899",
   "metadata": {},
   "outputs": [
    {
     "data": {
      "text/plain": [
       "array([ 1,  2,  3,  4,  5,  6,  7,  8,  9, 10])"
      ]
     },
     "execution_count": 135,
     "metadata": {},
     "output_type": "execute_result"
    }
   ],
   "source": [
    "c5 =np.append(c3, 10)\n",
    "c5"
   ]
  },
  {
   "cell_type": "code",
   "execution_count": 139,
   "id": "31b19c1b",
   "metadata": {},
   "outputs": [
    {
     "data": {
      "text/plain": [
       "array(['1', '2', '3', '4', '5', '6', '7', '8', '9', '10', 'ABC', '(1+2j)'],\n",
       "      dtype='<U64')"
      ]
     },
     "execution_count": 139,
     "metadata": {},
     "output_type": "execute_result"
    }
   ],
   "source": [
    "np.append(c5, ('ABC', 1 +2j))"
   ]
  },
  {
   "cell_type": "code",
   "execution_count": 143,
   "id": "905af383",
   "metadata": {},
   "outputs": [
    {
     "data": {
      "text/plain": [
       "array([10, 20, 30, 40, 50, 60])"
      ]
     },
     "execution_count": 143,
     "metadata": {},
     "output_type": "execute_result"
    }
   ],
   "source": [
    "c9= np.arange(10, 61, 10)\n",
    "c9"
   ]
  },
  {
   "cell_type": "code",
   "execution_count": 146,
   "id": "271d606e",
   "metadata": {},
   "outputs": [
    {
     "data": {
      "text/plain": [
       "array([10, 20, 30, 40, 50, 60, 70, 80, 90])"
      ]
     },
     "execution_count": 146,
     "metadata": {},
     "output_type": "execute_result"
    }
   ],
   "source": [
    "np.append(c9, (70, 80, 90))"
   ]
  },
  {
   "cell_type": "code",
   "execution_count": 150,
   "id": "44d80336",
   "metadata": {},
   "outputs": [
    {
     "data": {
      "text/plain": [
       "array([[10, 20, 30],\n",
       "       [40, 50, 60]])"
      ]
     },
     "execution_count": 150,
     "metadata": {},
     "output_type": "execute_result"
    }
   ],
   "source": [
    "c10 =np.reshape(c9, (2,3))\n",
    "c10"
   ]
  },
  {
   "cell_type": "code",
   "execution_count": 155,
   "id": "d0effa27",
   "metadata": {},
   "outputs": [
    {
     "data": {
      "text/plain": [
       "array([[10, 20, 30],\n",
       "       [40, 50, 60],\n",
       "       [70, 80, 90]])"
      ]
     },
     "execution_count": 155,
     "metadata": {},
     "output_type": "execute_result"
    }
   ],
   "source": [
    "c11 = np.append(c10, [[70, 80, 90]], axis = 0) 3 # AT ROw\n",
    "c11"
   ]
  },
  {
   "cell_type": "code",
   "execution_count": 169,
   "id": "8d8ff203",
   "metadata": {},
   "outputs": [
    {
     "data": {
      "text/plain": [
       "array([[ 10,  20,  30, 100],\n",
       "       [ 40,  50,  60, 120],\n",
       "       [ 70,  80,  90, 130]])"
      ]
     },
     "execution_count": 169,
     "metadata": {},
     "output_type": "execute_result"
    }
   ],
   "source": [
    "c13 = np.append(c11, [[100], [120], [130]], axis = 1) # AT COLUMN\n",
    "c13"
   ]
  },
  {
   "cell_type": "markdown",
   "id": "a3a97cc0",
   "metadata": {},
   "source": [
    "# 13. apply_along_axis\n",
    "- Apply a function to 1-D slices along the given axis\n",
    "# It will apply function to axis"
   ]
  },
  {
   "cell_type": "code",
   "execution_count": 175,
   "id": "e8593544",
   "metadata": {},
   "outputs": [
    {
     "data": {
      "text/plain": [
       "array([[1, 2, 3],\n",
       "       [4, 5, 6],\n",
       "       [7, 8, 9]])"
      ]
     },
     "execution_count": 175,
     "metadata": {},
     "output_type": "execute_result"
    }
   ],
   "source": [
    "def func1(Q): #EX-1\n",
    "    return (Q[0] + Q[-1])\n",
    "abc = np.array([[1,2,3], [4, 5, 6], [7, 8, 9]])\n",
    "abc\n"
   ]
  },
  {
   "cell_type": "code",
   "execution_count": 176,
   "id": "0cb30d67",
   "metadata": {},
   "outputs": [
    {
     "data": {
      "text/plain": [
       "array([ 8, 10, 12])"
      ]
     },
     "execution_count": 176,
     "metadata": {},
     "output_type": "execute_result"
    }
   ],
   "source": [
    "np.apply_along_axis(func1,0,abc) # When AXIS= 0 apply func1 to each COLOMN  of abc"
   ]
  },
  {
   "cell_type": "code",
   "execution_count": 177,
   "id": "3a85846a",
   "metadata": {},
   "outputs": [
    {
     "data": {
      "text/plain": [
       "array([ 4, 10, 16])"
      ]
     },
     "execution_count": 177,
     "metadata": {},
     "output_type": "execute_result"
    }
   ],
   "source": [
    "np.apply_along_axis(func1,1,abc) # When AXIS= 1 apply func1 to each ROW  of abc"
   ]
  },
  {
   "cell_type": "code",
   "execution_count": 180,
   "id": "fef29579",
   "metadata": {},
   "outputs": [
    {
     "data": {
      "text/plain": [
       "array([[1, 2, 3],\n",
       "       [4, 5, 6],\n",
       "       [7, 8, 9]])"
      ]
     },
     "execution_count": 180,
     "metadata": {},
     "output_type": "execute_result"
    }
   ],
   "source": [
    "def func2(P): #2\n",
    "    return (P[0] + P[-1])*2\n",
    "abc1 = np.array([[1,2,3], [4, 5, 6], [7, 8, 9]])\n",
    "abc1\n"
   ]
  },
  {
   "cell_type": "code",
   "execution_count": 181,
   "id": "e428ab4e",
   "metadata": {},
   "outputs": [
    {
     "data": {
      "text/plain": [
       "array([16, 20, 24])"
      ]
     },
     "execution_count": 181,
     "metadata": {},
     "output_type": "execute_result"
    }
   ],
   "source": [
    "np.apply_along_axis(func2,0,abc1) # When AXIS= 0 apply func1 to each COLOMN  of abc"
   ]
  },
  {
   "cell_type": "code",
   "execution_count": 182,
   "id": "b4a15bf3",
   "metadata": {},
   "outputs": [
    {
     "data": {
      "text/plain": [
       "array([ 8, 20, 32])"
      ]
     },
     "execution_count": 182,
     "metadata": {},
     "output_type": "execute_result"
    }
   ],
   "source": [
    "np.apply_along_axis(func2,1,abc1) # When AXIS= 1 apply func1 to each ROW  of abc"
   ]
  },
  {
   "cell_type": "markdown",
   "id": "daaa4e9a",
   "metadata": {},
   "source": [
    "# 14. apply_over_axes()\n",
    "-The numpy.apply_over_axes()applies a function repeatedly over multiple axes in an array."
   ]
  },
  {
   "cell_type": "code",
   "execution_count": 215,
   "id": "b9352133",
   "metadata": {},
   "outputs": [
    {
     "data": {
      "text/plain": [
       "array([ 0,  1,  2,  3,  4,  5,  6,  7,  8,  9, 10, 11, 12, 13, 14, 15, 16,\n",
       "       17, 18, 19, 20, 21, 22, 23])"
      ]
     },
     "execution_count": 215,
     "metadata": {},
     "output_type": "execute_result"
    }
   ],
   "source": [
    "D = np.arange(24)\n",
    "D"
   ]
  },
  {
   "cell_type": "code",
   "execution_count": 220,
   "id": "f0f5cd38",
   "metadata": {},
   "outputs": [
    {
     "data": {
      "text/plain": [
       "array([[[ 0,  1,  2,  3],\n",
       "        [ 4,  5,  6,  7],\n",
       "        [ 8,  9, 10, 11]],\n",
       "\n",
       "       [[12, 13, 14, 15],\n",
       "        [16, 17, 18, 19],\n",
       "        [20, 21, 22, 23]]])"
      ]
     },
     "execution_count": 220,
     "metadata": {},
     "output_type": "execute_result"
    }
   ],
   "source": [
    "D=np.reshape(D, (2,3,4))\n",
    "D"
   ]
  },
  {
   "cell_type": "code",
   "execution_count": 223,
   "id": "ce38d6d0",
   "metadata": {},
   "outputs": [
    {
     "data": {
      "text/plain": [
       "array([[[ 60],\n",
       "        [ 92],\n",
       "        [124]]])"
      ]
     },
     "execution_count": 223,
     "metadata": {},
     "output_type": "execute_result"
    }
   ],
   "source": [
    "DQ = np.apply_over_axes(np.sum, D, [0,2]) # sum over all axes except axis=1, result has same shape as original \n",
    "DQ"
   ]
  },
  {
   "cell_type": "markdown",
   "id": "bb6cd3fd",
   "metadata": {},
   "source": [
    "# 15. arrange\n",
    "-Return evenly spaced values within a given interval."
   ]
  },
  {
   "cell_type": "code",
   "execution_count": 230,
   "id": "9c8e5a7b",
   "metadata": {},
   "outputs": [
    {
     "data": {
      "text/plain": [
       "array([0, 1, 2, 3, 4, 5, 6, 7, 8])"
      ]
     },
     "execution_count": 230,
     "metadata": {},
     "output_type": "execute_result"
    }
   ],
   "source": [
    "np.arange(9)\n"
   ]
  },
  {
   "cell_type": "code",
   "execution_count": 231,
   "id": "31381f95",
   "metadata": {},
   "outputs": [
    {
     "data": {
      "text/plain": [
       "array([ 0.,  1.,  2.,  3.,  4.,  5.,  6.,  7.,  8.,  9., 10.])"
      ]
     },
     "execution_count": 231,
     "metadata": {},
     "output_type": "execute_result"
    }
   ],
   "source": [
    "np.arange(11.0)\n"
   ]
  },
  {
   "cell_type": "code",
   "execution_count": 232,
   "id": "38231c89",
   "metadata": {},
   "outputs": [
    {
     "data": {
      "text/plain": [
       "array([0., 1., 2., 3., 4., 5., 6., 7.])"
      ]
     },
     "execution_count": 232,
     "metadata": {},
     "output_type": "execute_result"
    }
   ],
   "source": [
    "np.arange(8, dtype=float)\n"
   ]
  },
  {
   "cell_type": "code",
   "execution_count": 233,
   "id": "7a1eaad6",
   "metadata": {},
   "outputs": [
    {
     "data": {
      "text/plain": [
       "array([5, 6, 7, 8, 9])"
      ]
     },
     "execution_count": 233,
     "metadata": {},
     "output_type": "execute_result"
    }
   ],
   "source": [
    "np.arange(5,10) # start,stop\n"
   ]
  },
  {
   "cell_type": "code",
   "execution_count": 234,
   "id": "a9d45c81",
   "metadata": {},
   "outputs": [
    {
     "data": {
      "text/plain": [
       "array([ 3, 12, 21])"
      ]
     },
     "execution_count": 234,
     "metadata": {},
     "output_type": "execute_result"
    }
   ],
   "source": [
    "np.arange(3,30,9) # start,stop,step\n"
   ]
  },
  {
   "cell_type": "markdown",
   "id": "52d6c75a",
   "metadata": {},
   "source": [
    "# 16. arccos\n",
    "--Trigonometric inverse cosine\n",
    "\n",
    "-The inverse of cos so that, \n",
    "if y = cos(x), then x = arccos(y)."
   ]
  },
  {
   "cell_type": "code",
   "execution_count": 235,
   "id": "93e02487",
   "metadata": {},
   "outputs": [
    {
     "data": {
      "text/plain": [
       "array([0.        , 3.14159265])"
      ]
     },
     "execution_count": 235,
     "metadata": {},
     "output_type": "execute_result"
    }
   ],
   "source": [
    "np.arccos([1, -1]) #We expect the arccos of 1 to be 0, and of -1 to be pi:"
   ]
  },
  {
   "cell_type": "markdown",
   "id": "95403dda",
   "metadata": {},
   "source": [
    "# 17. arccosh\n",
    "- Inverse hyperbolic cosine"
   ]
  },
  {
   "cell_type": "code",
   "execution_count": 237,
   "id": "6dc92789",
   "metadata": {},
   "outputs": [
    {
     "data": {
      "text/plain": [
       "array([1.65745445, 2.99322285])"
      ]
     },
     "execution_count": 237,
     "metadata": {},
     "output_type": "execute_result"
    }
   ],
   "source": [
    "np.arccosh([np.e, 10.0])\n"
   ]
  },
  {
   "cell_type": "code",
   "execution_count": 248,
   "id": "a271ab91",
   "metadata": {},
   "outputs": [
    {
     "data": {
      "text/plain": [
       "0.0"
      ]
     },
     "execution_count": 248,
     "metadata": {},
     "output_type": "execute_result"
    }
   ],
   "source": [
    "np.arccosh(1)"
   ]
  },
  {
   "cell_type": "markdown",
   "id": "e4c717e7",
   "metadata": {},
   "source": [
    "# 18. arcsin\n",
    "--Trigonometric inverse Sine\n"
   ]
  },
  {
   "cell_type": "code",
   "execution_count": 251,
   "id": "dc3c2df9",
   "metadata": {},
   "outputs": [
    {
     "data": {
      "text/plain": [
       "array([ 1.57079633, -1.57079633,  0.        ])"
      ]
     },
     "execution_count": 251,
     "metadata": {},
     "output_type": "execute_result"
    }
   ],
   "source": [
    "np.arcsin([1, -1, 0])"
   ]
  },
  {
   "cell_type": "markdown",
   "id": "4ac4dcbe",
   "metadata": {},
   "source": [
    "# 19. arcsinh\n",
    "- Inverse hyperbolic Sine"
   ]
  },
  {
   "cell_type": "code",
   "execution_count": 252,
   "id": "b7f8e580",
   "metadata": {},
   "outputs": [
    {
     "data": {
      "text/plain": [
       "array([1.72538256, 2.99822295])"
      ]
     },
     "execution_count": 252,
     "metadata": {},
     "output_type": "execute_result"
    }
   ],
   "source": [
    "np.arcsinh([np.e, 10.0])"
   ]
  },
  {
   "cell_type": "markdown",
   "id": "ef33725a",
   "metadata": {},
   "source": [
    "# 20. arctan\n",
    "-- Trigonometric inverse tangent, element-wise.\n",
    "\n",
    "The inverse of tan, so that if y = tan(x) then x = arctan(y).\n"
   ]
  },
  {
   "cell_type": "code",
   "execution_count": 254,
   "id": "6732db55",
   "metadata": {},
   "outputs": [
    {
     "data": {
      "text/plain": [
       "array([ 0.        ,  0.78539816, -0.78539816])"
      ]
     },
     "execution_count": 254,
     "metadata": {},
     "output_type": "execute_result"
    }
   ],
   "source": [
    "np.arctan([0, 1, -1])\n"
   ]
  },
  {
   "cell_type": "markdown",
   "id": "b8f8d3d2",
   "metadata": {},
   "source": [
    "# 21. arctan2\n",
    "\n",
    "It computes element-wise arc tangent of arr1/arr2 choosing the quadrant correctly. \n",
    "\n",
    "The quadrant is chosen so that arctan2(x1, x2)"
   ]
  },
  {
   "cell_type": "code",
   "execution_count": 257,
   "id": "a675c6ae",
   "metadata": {},
   "outputs": [
    {
     "data": {
      "text/plain": [
       "array([-135.,  -45.,   45.,  135.])"
      ]
     },
     "execution_count": 257,
     "metadata": {},
     "output_type": "execute_result"
    }
   ],
   "source": [
    "#Consider four points in different quadrants\n",
    "x = np.array([-1, +1, +1, -1])\n",
    "y = np.array([-1, -1, +1, +1])\n",
    "np.arctan2(y, x) * 180 / np.pi # In Degree Unit\n"
   ]
  },
  {
   "cell_type": "code",
   "execution_count": 256,
   "id": "cae95ab2",
   "metadata": {},
   "outputs": [
    {
     "data": {
      "text/plain": [
       "array([-2.35619449, -0.78539816,  0.78539816,  2.35619449])"
      ]
     },
     "execution_count": 256,
     "metadata": {},
     "output_type": "execute_result"
    }
   ],
   "source": [
    "np.arctan2(y, x) # IN radian Unit"
   ]
  },
  {
   "cell_type": "code",
   "execution_count": 258,
   "id": "fe7da3ab",
   "metadata": {},
   "outputs": [
    {
     "data": {
      "text/plain": [
       "array([ 1.57079633, -1.57079633])"
      ]
     },
     "execution_count": 258,
     "metadata": {},
     "output_type": "execute_result"
    }
   ],
   "source": [
    "np.arctan2([1., -1.], [0., 0.])"
   ]
  },
  {
   "cell_type": "code",
   "execution_count": 259,
   "id": "2b7dfb87",
   "metadata": {},
   "outputs": [
    {
     "data": {
      "text/plain": [
       "array([0.        , 1.57079633])"
      ]
     },
     "execution_count": 259,
     "metadata": {},
     "output_type": "execute_result"
    }
   ],
   "source": [
    "np.arctan2([0, 1], [1, 0])\n"
   ]
  },
  {
   "cell_type": "markdown",
   "id": "12841632",
   "metadata": {},
   "source": [
    "# 22. arctanh\n",
    "Inverse hyperbolic tangent "
   ]
  },
  {
   "cell_type": "code",
   "execution_count": 260,
   "id": "9b6b2dc4",
   "metadata": {},
   "outputs": [
    {
     "data": {
      "text/plain": [
       "array([ 0.        , -0.54930614])"
      ]
     },
     "execution_count": 260,
     "metadata": {},
     "output_type": "execute_result"
    }
   ],
   "source": [
    "np.arctanh([0, -0.5])"
   ]
  },
  {
   "cell_type": "markdown",
   "id": "7c60bd32",
   "metadata": {},
   "source": [
    "# 23. argmax\n",
    "--Returns the indices of the maximum values along an axis."
   ]
  },
  {
   "cell_type": "code",
   "execution_count": 277,
   "id": "8a860ccc",
   "metadata": {},
   "outputs": [],
   "source": [
    "J =np.array([0, 11, 95, 2, -5, 55]) "
   ]
  },
  {
   "cell_type": "code",
   "execution_count": 278,
   "id": "9c2bce1a",
   "metadata": {
    "scrolled": true
   },
   "outputs": [
    {
     "data": {
      "text/plain": [
       "2"
      ]
     },
     "execution_count": 278,
     "metadata": {},
     "output_type": "execute_result"
    }
   ],
   "source": [
    "np.argmax(J)"
   ]
  },
  {
   "cell_type": "code",
   "execution_count": 280,
   "id": "35ff15b8",
   "metadata": {},
   "outputs": [
    {
     "data": {
      "text/plain": [
       "array([[10, 11, 12],\n",
       "       [13, 14, 15]])"
      ]
     },
     "execution_count": 280,
     "metadata": {},
     "output_type": "execute_result"
    }
   ],
   "source": [
    "j1 = np.arange(6).reshape(2,3) +10\n",
    "j1"
   ]
  },
  {
   "cell_type": "code",
   "execution_count": 281,
   "id": "78515078",
   "metadata": {},
   "outputs": [
    {
     "data": {
      "text/plain": [
       "5"
      ]
     },
     "execution_count": 281,
     "metadata": {},
     "output_type": "execute_result"
    }
   ],
   "source": [
    "np.argmax(j1)"
   ]
  },
  {
   "cell_type": "code",
   "execution_count": 309,
   "id": "3c0aecef",
   "metadata": {},
   "outputs": [],
   "source": [
    "j2=np.array([[10,50,30],[60,20,60]]) # If having more than 1 maximum values it will right 1st index ---- NOTE"
   ]
  },
  {
   "cell_type": "code",
   "execution_count": 310,
   "id": "891963e4",
   "metadata": {},
   "outputs": [
    {
     "data": {
      "text/plain": [
       "array([[ 1,  9,  0,  4],\n",
       "       [ 2,  0,  8, -1]])"
      ]
     },
     "execution_count": 310,
     "metadata": {},
     "output_type": "execute_result"
    }
   ],
   "source": [
    "J2 = np.array([[1, 9, 0, 4], [2, 0, 8, -1]])\n",
    "J2"
   ]
  },
  {
   "cell_type": "code",
   "execution_count": 311,
   "id": "94e84064",
   "metadata": {},
   "outputs": [
    {
     "data": {
      "text/plain": [
       "array([1, 0, 1, 0], dtype=int64)"
      ]
     },
     "execution_count": 311,
     "metadata": {},
     "output_type": "execute_result"
    }
   ],
   "source": [
    "np.argmax(J2, axis =0)           # for each column: the row index of the maximum value"
   ]
  },
  {
   "cell_type": "code",
   "execution_count": 312,
   "id": "925d4423",
   "metadata": {},
   "outputs": [
    {
     "data": {
      "text/plain": [
       "array([1, 2], dtype=int64)"
      ]
     },
     "execution_count": 312,
     "metadata": {},
     "output_type": "execute_result"
    }
   ],
   "source": [
    "np.argmax(J2, axis=1)              # for each row: the column index of the maximum value"
   ]
  },
  {
   "cell_type": "markdown",
   "id": "3b907b96",
   "metadata": {},
   "source": [
    "# 24. argmin"
   ]
  },
  {
   "cell_type": "markdown",
   "id": "0f58c91f",
   "metadata": {},
   "source": [
    "--Returns the indices of the Minimum values along an axis."
   ]
  },
  {
   "cell_type": "code",
   "execution_count": 356,
   "id": "2e668524",
   "metadata": {},
   "outputs": [],
   "source": [
    "d4 =np.array([0, 11, 95, 2, -5, 55]) "
   ]
  },
  {
   "cell_type": "code",
   "execution_count": 357,
   "id": "221c7686",
   "metadata": {},
   "outputs": [
    {
     "data": {
      "text/plain": [
       "4"
      ]
     },
     "execution_count": 357,
     "metadata": {},
     "output_type": "execute_result"
    }
   ],
   "source": [
    "np.argmin(d4)"
   ]
  },
  {
   "cell_type": "code",
   "execution_count": 358,
   "id": "4bc52b88",
   "metadata": {},
   "outputs": [
    {
     "data": {
      "text/plain": [
       "array([[10, 11, 12],\n",
       "       [13, 14, 15]])"
      ]
     },
     "execution_count": 358,
     "metadata": {},
     "output_type": "execute_result"
    }
   ],
   "source": [
    "d9 = np.arange(6).reshape(2,3) +10\n",
    "d9"
   ]
  },
  {
   "cell_type": "code",
   "execution_count": 359,
   "id": "c81145e4",
   "metadata": {},
   "outputs": [
    {
     "data": {
      "text/plain": [
       "0"
      ]
     },
     "execution_count": 359,
     "metadata": {},
     "output_type": "execute_result"
    }
   ],
   "source": [
    "np.argmin(d9)"
   ]
  },
  {
   "cell_type": "code",
   "execution_count": 360,
   "id": "1240cb56",
   "metadata": {},
   "outputs": [
    {
     "data": {
      "text/plain": [
       "array([[50, 50, 10],\n",
       "       [60, 10, 40]])"
      ]
     },
     "execution_count": 360,
     "metadata": {},
     "output_type": "execute_result"
    }
   ],
   "source": [
    "da2=np.array([[50,50,10],[60,10,40]])\n",
    "da2"
   ]
  },
  {
   "cell_type": "code",
   "execution_count": 361,
   "id": "a3f2cae3",
   "metadata": {},
   "outputs": [
    {
     "data": {
      "text/plain": [
       "2"
      ]
     },
     "execution_count": 361,
     "metadata": {},
     "output_type": "execute_result"
    }
   ],
   "source": [
    "np.argmin(da2) # If having more than 1 min. vales it will right 1st index ------ NOTE"
   ]
  },
  {
   "cell_type": "code",
   "execution_count": 362,
   "id": "870d0874",
   "metadata": {},
   "outputs": [
    {
     "data": {
      "text/plain": [
       "array([0, 1, 0], dtype=int64)"
      ]
     },
     "execution_count": 362,
     "metadata": {},
     "output_type": "execute_result"
    }
   ],
   "source": [
    "np.argmin(da2, axis=0) # for each column: the row index of the maximum value"
   ]
  },
  {
   "cell_type": "code",
   "execution_count": 363,
   "id": "fcd6e9c1",
   "metadata": {},
   "outputs": [
    {
     "data": {
      "text/plain": [
       "array([2, 1], dtype=int64)"
      ]
     },
     "execution_count": 363,
     "metadata": {},
     "output_type": "execute_result"
    }
   ],
   "source": [
    "np.argmin(da2, axis=1)   # for each row: the column index of the maximum value"
   ]
  },
  {
   "cell_type": "markdown",
   "id": "86701e3b",
   "metadata": {},
   "source": [
    "# 25. argsoft\n",
    "--- Returns the indices that would sort an array\n"
   ]
  },
  {
   "cell_type": "code",
   "execution_count": 364,
   "id": "f38d8e77",
   "metadata": {},
   "outputs": [],
   "source": [
    "AB1 = np.array([ 2, 0,  1, 5, 4, 1, 9])"
   ]
  },
  {
   "cell_type": "code",
   "execution_count": 365,
   "id": "b16fc674",
   "metadata": {},
   "outputs": [
    {
     "data": {
      "text/plain": [
       "array([1, 2, 5, 0, 4, 3, 6], dtype=int64)"
      ]
     },
     "execution_count": 365,
     "metadata": {},
     "output_type": "execute_result"
    }
   ],
   "source": [
    "np.argsort(AB1) # It will sort & write Indices of elemets"
   ]
  },
  {
   "cell_type": "code",
   "execution_count": 366,
   "id": "f46095cb",
   "metadata": {},
   "outputs": [
    {
     "data": {
      "text/plain": [
       "array([1, 2, 5, 0, 4, 3, 6], dtype=int64)"
      ]
     },
     "execution_count": 366,
     "metadata": {},
     "output_type": "execute_result"
    }
   ],
   "source": [
    "# FOR SORTING OF VALUES\n",
    "BQ = np.argsort(AB1)\n",
    "BQ"
   ]
  },
  {
   "cell_type": "code",
   "execution_count": 367,
   "id": "f2bf4e2c",
   "metadata": {},
   "outputs": [
    {
     "data": {
      "text/plain": [
       "array([0, 1, 1, 2, 4, 5, 9])"
      ]
     },
     "execution_count": 367,
     "metadata": {},
     "output_type": "execute_result"
    }
   ],
   "source": [
    "AB1[BQ] # same effect as sort() but on Values"
   ]
  },
  {
   "cell_type": "code",
   "execution_count": 368,
   "id": "1b053f22",
   "metadata": {},
   "outputs": [
    {
     "data": {
      "text/plain": [
       "array([[8, 4, 1],\n",
       "       [2, 0, 9]])"
      ]
     },
     "execution_count": 368,
     "metadata": {},
     "output_type": "execute_result"
    }
   ],
   "source": [
    "aq1 = np.array([[8,4,1],[2,0,9]])\n",
    "aq1"
   ]
  },
  {
   "cell_type": "code",
   "execution_count": 369,
   "id": "72ac3a8e",
   "metadata": {},
   "outputs": [
    {
     "data": {
      "text/plain": [
       "array([[1, 1, 0],\n",
       "       [0, 0, 1]], dtype=int64)"
      ]
     },
     "execution_count": 369,
     "metadata": {},
     "output_type": "execute_result"
    }
   ],
   "source": [
    "JQ1 = aq1.argsort(axis=0) # sorts on columns. NOT the same as aq1.sort(axis=1)\n",
    "JQ1"
   ]
  },
  {
   "cell_type": "code",
   "execution_count": 370,
   "id": "99477d7a",
   "metadata": {},
   "outputs": [
    {
     "data": {
      "text/plain": [
       "array([[2, 0, 1],\n",
       "       [8, 4, 9]])"
      ]
     },
     "execution_count": 370,
     "metadata": {},
     "output_type": "execute_result"
    }
   ],
   "source": [
    "aq1[JQ1,[[0,1,2], [0,1,2]]] # 2-D arrays need fancy indexing if you want to sort them.\n"
   ]
  },
  {
   "cell_type": "code",
   "execution_count": 371,
   "id": "bb2c5a51",
   "metadata": {},
   "outputs": [
    {
     "data": {
      "text/plain": [
       "array([[2, 1, 0],\n",
       "       [1, 0, 2]], dtype=int64)"
      ]
     },
     "execution_count": 371,
     "metadata": {},
     "output_type": "execute_result"
    }
   ],
   "source": [
    "JQ1 = aq1.argsort(axis=1)  # sort along rows. Can use aq1.argsort(axis=-1) for last axis.\n",
    "JQ1 "
   ]
  },
  {
   "cell_type": "markdown",
   "id": "487e0699",
   "metadata": {},
   "source": [
    "# 26. array\n",
    "- To Create an array.\n"
   ]
  },
  {
   "cell_type": "code",
   "execution_count": 372,
   "id": "5f7b44d3",
   "metadata": {},
   "outputs": [
    {
     "data": {
      "text/plain": [
       "array([1., 2., 3.])"
      ]
     },
     "execution_count": 372,
     "metadata": {},
     "output_type": "execute_result"
    }
   ],
   "source": [
    "np.array([1, 2, 3.0])"
   ]
  },
  {
   "cell_type": "code",
   "execution_count": 374,
   "id": "bf33e493",
   "metadata": {},
   "outputs": [
    {
     "data": {
      "text/plain": [
       "array([[1, 2],\n",
       "       [3, 4]])"
      ]
     },
     "execution_count": 374,
     "metadata": {},
     "output_type": "execute_result"
    }
   ],
   "source": [
    "np.array([[1, 2], [3, 4]]) # More than one dimension:"
   ]
  },
  {
   "cell_type": "code",
   "execution_count": 375,
   "id": "2a991f23",
   "metadata": {},
   "outputs": [
    {
     "data": {
      "text/plain": [
       "array([1.+0.j, 2.+0.j, 3.+0.j])"
      ]
     },
     "execution_count": 375,
     "metadata": {},
     "output_type": "execute_result"
    }
   ],
   "source": [
    "np.array([1, 2, 3], dtype=complex) #Type provided:"
   ]
  },
  {
   "cell_type": "code",
   "execution_count": 376,
   "id": "38c48798",
   "metadata": {},
   "outputs": [
    {
     "data": {
      "text/plain": [
       "array([[1, 2, 3]])"
      ]
     },
     "execution_count": 376,
     "metadata": {},
     "output_type": "execute_result"
    }
   ],
   "source": [
    "np.array([1, 2, 3], ndmin=2)  #Minimum dimensions 2:"
   ]
  },
  {
   "cell_type": "code",
   "execution_count": 378,
   "id": "e42ad842",
   "metadata": {},
   "outputs": [
    {
     "data": {
      "text/plain": [
       "array([1])"
      ]
     },
     "execution_count": 378,
     "metadata": {},
     "output_type": "execute_result"
    }
   ],
   "source": [
    "np.array(1, copy=0, subok=1, ndmin=1) # basically equivalent to atleast_1d\n"
   ]
  },
  {
   "cell_type": "code",
   "execution_count": 379,
   "id": "1a303581",
   "metadata": {},
   "outputs": [
    {
     "data": {
      "text/plain": [
       "array([[1]])"
      ]
     },
     "execution_count": 379,
     "metadata": {},
     "output_type": "execute_result"
    }
   ],
   "source": [
    "np.array(1, copy=0, subok=1, ndmin=2) # basically equivalent to atleast_2d"
   ]
  },
  {
   "cell_type": "code",
   "execution_count": 381,
   "id": "db0d4cac",
   "metadata": {},
   "outputs": [
    {
     "data": {
      "text/plain": [
       "array([[1]])"
      ]
     },
     "execution_count": 381,
     "metadata": {},
     "output_type": "execute_result"
    }
   ],
   "source": [
    "np.array(1, subok=1, ndmin=2) # like atleast_2d but always makes a copy"
   ]
  },
  {
   "cell_type": "markdown",
   "id": "4b7283f6",
   "metadata": {},
   "source": [
    "# 27. arrayrange\n",
    "-Synonym for arange."
   ]
  },
  {
   "cell_type": "markdown",
   "id": "6f963304",
   "metadata": {},
   "source": [
    "# 28. array split\n",
    "-Split an array into multiple sub-arrays"
   ]
  },
  {
   "cell_type": "code",
   "execution_count": 386,
   "id": "9dfd845e",
   "metadata": {},
   "outputs": [
    {
     "data": {
      "text/plain": [
       "array([[1, 2, 3, 4],\n",
       "       [5, 6, 7, 8]])"
      ]
     },
     "execution_count": 386,
     "metadata": {},
     "output_type": "execute_result"
    }
   ],
   "source": [
    "c4 = np.array([[1,2,3,4],[5,6,7,8]])\n",
    "c4"
   ]
  },
  {
   "cell_type": "code",
   "execution_count": 391,
   "id": "dd3c68f1",
   "metadata": {},
   "outputs": [
    {
     "data": {
      "text/plain": [
       "[array([[1, 2, 3, 4]]), array([[5, 6, 7, 8]])]"
      ]
     },
     "execution_count": 391,
     "metadata": {},
     "output_type": "execute_result"
    }
   ],
   "source": [
    "np.array_split(c4,2,axis=0) # split c4 in 2 parts. row-wise"
   ]
  },
  {
   "cell_type": "code",
   "execution_count": 394,
   "id": "d7aeb859",
   "metadata": {},
   "outputs": [
    {
     "data": {
      "text/plain": [
       "[array([[1],\n",
       "        [5]]),\n",
       " array([[2],\n",
       "        [6]]),\n",
       " array([[3],\n",
       "        [7]]),\n",
       " array([[4],\n",
       "        [8]])]"
      ]
     },
     "execution_count": 394,
     "metadata": {},
     "output_type": "execute_result"
    }
   ],
   "source": [
    "np.array_split(c4,4,axis=1) # split c4 in 4 parts, column-wise"
   ]
  },
  {
   "cell_type": "code",
   "execution_count": 395,
   "id": "09306b10",
   "metadata": {},
   "outputs": [
    {
     "data": {
      "text/plain": [
       "[array([[1, 2],\n",
       "        [5, 6]]),\n",
       " array([[3],\n",
       "        [7]]),\n",
       " array([[4],\n",
       "        [8]])]"
      ]
     },
     "execution_count": 395,
     "metadata": {},
     "output_type": "execute_result"
    }
   ],
   "source": [
    "np.array_split(c4,3,axis=1) # impossible to split in 3 equal parts -> first part(s) are bigg"
   ]
  },
  {
   "cell_type": "code",
   "execution_count": 397,
   "id": "2c2e7fe3",
   "metadata": {},
   "outputs": [
    {
     "data": {
      "text/plain": [
       "[array([[1, 2],\n",
       "        [5, 6]]),\n",
       " array([[3],\n",
       "        [7]]),\n",
       " array([[4],\n",
       "        [8]])]"
      ]
     },
     "execution_count": 397,
     "metadata": {},
     "output_type": "execute_result"
    }
   ],
   "source": [
    "np.array_split(c4,[2,3],axis=1) # make c4 split before the 2nd and the 3rd column"
   ]
  },
  {
   "cell_type": "markdown",
   "id": "8536ff4a",
   "metadata": {},
   "source": [
    "# 29. asarray\n",
    "- Convert the input to an array."
   ]
  },
  {
   "cell_type": "code",
   "execution_count": 400,
   "id": "612bb5c9",
   "metadata": {},
   "outputs": [
    {
     "data": {
      "text/plain": [
       "array([1, 3, 5, 7, 9])"
      ]
     },
     "execution_count": 400,
     "metadata": {},
     "output_type": "execute_result"
    }
   ],
   "source": [
    "my_list = [1, 3, 5, 7, 9]\n",
    "np.asarray(my_list)     # List to array for this Example\n"
   ]
  },
  {
   "cell_type": "code",
   "execution_count": 401,
   "id": "0d836cdb",
   "metadata": {},
   "outputs": [
    {
     "data": {
      "text/plain": [
       "array([[1, 3, 9],\n",
       "       [8, 2, 6]])"
      ]
     },
     "execution_count": 401,
     "metadata": {},
     "output_type": "execute_result"
    }
   ],
   "source": [
    "my_tuple = ([1, 3, 9], [8, 2, 6])\n",
    "np.asarray(my_tuple)   # Tuple to array for this Example"
   ]
  },
  {
   "cell_type": "code",
   "execution_count": 403,
   "id": "d310b484",
   "metadata": {},
   "outputs": [
    {
     "data": {
      "text/plain": [
       "matrix([[1, 2],\n",
       "        [5, 8]])"
      ]
     },
     "execution_count": 403,
     "metadata": {},
     "output_type": "execute_result"
    }
   ],
   "source": [
    "m = np.matrix('1 2; 5 8')\n",
    "m"
   ]
  },
  {
   "cell_type": "code",
   "execution_count": 408,
   "id": "60f3f5c8",
   "metadata": {},
   "outputs": [
    {
     "data": {
      "text/plain": [
       "array([[   1, -190],\n",
       "       [   5,    8]])"
      ]
     },
     "execution_count": 408,
     "metadata": {},
     "output_type": "execute_result"
    }
   ],
   "source": [
    "B9 = np.asarray(m) # a is array type with same contents as m -- data is not copied\n",
    "B9"
   ]
  },
  {
   "cell_type": "code",
   "execution_count": 406,
   "id": "93c65e9d",
   "metadata": {},
   "outputs": [
    {
     "data": {
      "text/plain": [
       "matrix([[   1, -190],\n",
       "        [   5,    8]])"
      ]
     },
     "execution_count": 406,
     "metadata": {},
     "output_type": "execute_result"
    }
   ],
   "source": [
    "m[0,1] = -190\n",
    "m\n"
   ]
  },
  {
   "cell_type": "code",
   "execution_count": 410,
   "id": "51c1c51b",
   "metadata": {},
   "outputs": [
    {
     "data": {
      "text/plain": [
       "array([[   1, -190],\n",
       "       [   5,    8]])"
      ]
     },
     "execution_count": 410,
     "metadata": {},
     "output_type": "execute_result"
    }
   ],
   "source": [
    "B9 # no copy was made, so modifying m modifies B9, and vice versa"
   ]
  },
  {
   "cell_type": "markdown",
   "id": "83b04e0c",
   "metadata": {},
   "source": [
    "# 30. asanyarray\n",
    "-Convert the input to an ndarray, but pass ndarray subclasses through."
   ]
  },
  {
   "cell_type": "code",
   "execution_count": 412,
   "id": "a9b34580",
   "metadata": {},
   "outputs": [
    {
     "data": {
      "text/plain": [
       "array([[1, 2],\n",
       "       [5, 8]])"
      ]
     },
     "execution_count": 412,
     "metadata": {},
     "output_type": "execute_result"
    }
   ],
   "source": [
    "c7 = np.array([[1,2],[5,8]])\n",
    "c7"
   ]
  },
  {
   "cell_type": "code",
   "execution_count": 413,
   "id": "d77e52cf",
   "metadata": {},
   "outputs": [
    {
     "data": {
      "text/plain": [
       "matrix([[1, 2],\n",
       "        [5, 8]])"
      ]
     },
     "execution_count": 413,
     "metadata": {},
     "output_type": "execute_result"
    }
   ],
   "source": [
    "mq = np.matrix('1 2; 5 8')\n",
    "mq\n"
   ]
  },
  {
   "cell_type": "code",
   "execution_count": 415,
   "id": "9639ff06",
   "metadata": {},
   "outputs": [
    {
     "data": {
      "text/plain": [
       "array([[1, 2],\n",
       "       [5, 8]])"
      ]
     },
     "execution_count": 415,
     "metadata": {},
     "output_type": "execute_result"
    }
   ],
   "source": [
    "np.asanyarray(c7) # the array c7 is returned unmodified"
   ]
  },
  {
   "cell_type": "code",
   "execution_count": 416,
   "id": "f49294a5",
   "metadata": {},
   "outputs": [
    {
     "data": {
      "text/plain": [
       "matrix([[1, 2],\n",
       "        [5, 8]])"
      ]
     },
     "execution_count": 416,
     "metadata": {},
     "output_type": "execute_result"
    }
   ],
   "source": [
    "np.asanyarray(mq) # the matrix mq is returned unmodified"
   ]
  },
  {
   "cell_type": "code",
   "execution_count": 417,
   "id": "1d75a156",
   "metadata": {},
   "outputs": [],
   "source": [
    "my_tuple1 = ([1, 3, 9], [8, 2, 6])\n"
   ]
  },
  {
   "cell_type": "code",
   "execution_count": 419,
   "id": "dded0a7a",
   "metadata": {},
   "outputs": [
    {
     "data": {
      "text/plain": [
       "array([[1, 3, 9],\n",
       "       [8, 2, 6]])"
      ]
     },
     "execution_count": 419,
     "metadata": {},
     "output_type": "execute_result"
    }
   ],
   "source": [
    "np.asanyarray(my_tuple1)"
   ]
  },
  {
   "cell_type": "markdown",
   "id": "7eb3dd41",
   "metadata": {},
   "source": [
    "# 31. asmatrix\n",
    "Interpret the input as a matrix.\n"
   ]
  },
  {
   "cell_type": "code",
   "execution_count": 426,
   "id": "43757e23",
   "metadata": {},
   "outputs": [
    {
     "data": {
      "text/plain": [
       "matrix([[1, 2],\n",
       "        [3, 4]])"
      ]
     },
     "execution_count": 426,
     "metadata": {},
     "output_type": "execute_result"
    }
   ],
   "source": [
    "x = np.array([[1, 2], [3, 4]])\n",
    "m = np.asmatrix(x)# m is matrix type with same contents as x -- data is not copied\n",
    "m"
   ]
  },
  {
   "cell_type": "code",
   "execution_count": 428,
   "id": "19c1ea84",
   "metadata": {},
   "outputs": [
    {
     "name": "stdout",
     "output_type": "stream",
     "text": [
      "[[5 2]\n",
      " [3 4]]\n",
      "[[5 2]\n",
      " [3 4]]\n"
     ]
    }
   ],
   "source": [
    "x[0,0] = 5\n",
    "print(m)\n",
    "\n",
    "print(x) # no copy was made so modifying x modifies m, and vice versa"
   ]
  },
  {
   "cell_type": "markdown",
   "id": "1cd675c3",
   "metadata": {},
   "source": [
    "# 32. astype\n",
    "Copy of the array, cast to a specified type."
   ]
  },
  {
   "cell_type": "code",
   "execution_count": 430,
   "id": "3e37d32d",
   "metadata": {},
   "outputs": [
    {
     "data": {
      "text/plain": [
       "array([1. , 2. , 2.5])"
      ]
     },
     "execution_count": 430,
     "metadata": {},
     "output_type": "execute_result"
    }
   ],
   "source": [
    "x6 = np.array([1, 2, 2.5])\n",
    "x6"
   ]
  },
  {
   "cell_type": "code",
   "execution_count": 432,
   "id": "02081137",
   "metadata": {},
   "outputs": [
    {
     "data": {
      "text/plain": [
       "array([1, 2, 2])"
      ]
     },
     "execution_count": 432,
     "metadata": {},
     "output_type": "execute_result"
    }
   ],
   "source": [
    "x6.astype(int) # x6 default type was float with this command converting into int type"
   ]
  },
  {
   "cell_type": "code",
   "execution_count": 434,
   "id": "15f73d24",
   "metadata": {},
   "outputs": [
    {
     "data": {
      "text/plain": [
       "array([1. , 2. , 2.5])"
      ]
     },
     "execution_count": 434,
     "metadata": {},
     "output_type": "execute_result"
    }
   ],
   "source": [
    "x6.astype(None) # None implies converting to the default type"
   ]
  },
  {
   "cell_type": "markdown",
   "id": "9612ff19",
   "metadata": {},
   "source": [
    "# 33. atleast 1d\n",
    "Convert inputs to arrays with at least one dimension"
   ]
  },
  {
   "cell_type": "code",
   "execution_count": 436,
   "id": "95d320df",
   "metadata": {},
   "outputs": [
    {
     "data": {
      "text/plain": [
       "array([[[0, 1],\n",
       "        [2, 3]],\n",
       "\n",
       "       [[4, 5],\n",
       "        [6, 7]]])"
      ]
     },
     "execution_count": 436,
     "metadata": {},
     "output_type": "execute_result"
    }
   ],
   "source": [
    "a01 = 1 # 0-d array\n",
    "b01 = np.array([2,3]) # 1-d array\n",
    "c01 = np.array([[4,5],[6,7]]) # 2-d array\n",
    "d01 = np.arange(8).reshape(2,2,2) # 3-d array\n",
    "d01"
   ]
  },
  {
   "cell_type": "code",
   "execution_count": 438,
   "id": "5e832104",
   "metadata": {},
   "outputs": [
    {
     "data": {
      "text/plain": [
       "[array([1]),\n",
       " array([2, 3]),\n",
       " array([[4, 5],\n",
       "        [6, 7]]),\n",
       " array([[[0, 1],\n",
       "         [2, 3]],\n",
       " \n",
       "        [[4, 5],\n",
       "         [6, 7]]])]"
      ]
     },
     "execution_count": 438,
     "metadata": {},
     "output_type": "execute_result"
    }
   ],
   "source": [
    "np.atleast_1d(a01,b01,c01,d01) # all output arrays have dim >= 1"
   ]
  },
  {
   "cell_type": "markdown",
   "id": "c204485a",
   "metadata": {},
   "source": [
    "# 34. atleast_2d()\n",
    "-View inputs as arrays with at least two dimensions."
   ]
  },
  {
   "cell_type": "code",
   "execution_count": 439,
   "id": "3abcd65e",
   "metadata": {},
   "outputs": [
    {
     "data": {
      "text/plain": [
       "array([[[0, 1],\n",
       "        [2, 3]],\n",
       "\n",
       "       [[4, 5],\n",
       "        [6, 7]]])"
      ]
     },
     "execution_count": 439,
     "metadata": {},
     "output_type": "execute_result"
    }
   ],
   "source": [
    "a11 = 1 # 0-d array\n",
    "b11 = np.array([2,3]) # 1-d array\n",
    "c11 = np.array([[4,5],[6,7]]) # 2-d array\n",
    "d11 = np.arange(8).reshape(2,2,2) # 3-d array\n",
    "d11"
   ]
  },
  {
   "cell_type": "code",
   "execution_count": 440,
   "id": "fb7834c2",
   "metadata": {},
   "outputs": [
    {
     "data": {
      "text/plain": [
       "[array([[1]]),\n",
       " array([[2, 3]]),\n",
       " array([[4, 5],\n",
       "        [6, 7]]),\n",
       " array([[[0, 1],\n",
       "         [2, 3]],\n",
       " \n",
       "        [[4, 5],\n",
       "         [6, 7]]])]"
      ]
     },
     "execution_count": 440,
     "metadata": {},
     "output_type": "execute_result"
    }
   ],
   "source": [
    "np.atleast_2d(a11,b11,c11,d11) # all output arrays have dim >= 2"
   ]
  },
  {
   "cell_type": "markdown",
   "id": "c3b00c2e",
   "metadata": {},
   "source": [
    "# 35. atleast_3d()\n",
    "-View inputs as arrays with at least three dimensions."
   ]
  },
  {
   "cell_type": "code",
   "execution_count": 442,
   "id": "386bf0a1",
   "metadata": {},
   "outputs": [
    {
     "data": {
      "text/plain": [
       "array([[[0, 1],\n",
       "        [2, 3]],\n",
       "\n",
       "       [[4, 5],\n",
       "        [6, 7]]])"
      ]
     },
     "execution_count": 442,
     "metadata": {},
     "output_type": "execute_result"
    }
   ],
   "source": [
    "f = 1 # 0-d array\n",
    "g = np.array([2,3]) # 1-d array\n",
    "h = np.array([[4,5],[6,7]]) # 2-d array\n",
    "i = np.arange(8).reshape(2,2,2) # 3-d array\n",
    "i"
   ]
  },
  {
   "cell_type": "code",
   "execution_count": 443,
   "id": "fae184fa",
   "metadata": {
    "scrolled": true
   },
   "outputs": [
    {
     "data": {
      "text/plain": [
       "[array([[[1]]]),\n",
       " array([[[2],\n",
       "         [3]]]),\n",
       " array([[[4],\n",
       "         [5]],\n",
       " \n",
       "        [[6],\n",
       "         [7]]]),\n",
       " array([[[0, 1],\n",
       "         [2, 3]],\n",
       " \n",
       "        [[4, 5],\n",
       "         [6, 7]]])]"
      ]
     },
     "execution_count": 443,
     "metadata": {},
     "output_type": "execute_result"
    }
   ],
   "source": [
    "np.atleast_3d(f,g,h,i) # all output arrays have dim >= 3"
   ]
  },
  {
   "cell_type": "markdown",
   "id": "c7bd46e2",
   "metadata": {},
   "source": [
    "# 36. Average \n",
    "Compute the weighted average along the specified axis."
   ]
  },
  {
   "cell_type": "code",
   "execution_count": 444,
   "id": "9c3ba17c",
   "metadata": {},
   "outputs": [
    {
     "data": {
      "text/plain": [
       "array([1, 4, 5, 7, 5])"
      ]
     },
     "execution_count": 444,
     "metadata": {},
     "output_type": "execute_result"
    }
   ],
   "source": [
    "bz = np.array([1,4,5,7,5])\n",
    "bz"
   ]
  },
  {
   "cell_type": "code",
   "execution_count": 446,
   "id": "dfeea92a",
   "metadata": {},
   "outputs": [
    {
     "data": {
      "text/plain": [
       "4.4"
      ]
     },
     "execution_count": 446,
     "metadata": {},
     "output_type": "execute_result"
    }
   ],
   "source": [
    "np.average(bz) # average always comes in float"
   ]
  },
  {
   "cell_type": "code",
   "execution_count": 448,
   "id": "18eeb672",
   "metadata": {},
   "outputs": [],
   "source": [
    "w = np.array([0.1, 0.2, 0.5, 0.2, 0.2]) # weights, not necessarily normalized"
   ]
  },
  {
   "cell_type": "code",
   "execution_count": 450,
   "id": "42f7da23",
   "metadata": {},
   "outputs": [
    {
     "data": {
      "text/plain": [
       "4.833333333333333"
      ]
     },
     "execution_count": 450,
     "metadata": {},
     "output_type": "execute_result"
    }
   ],
   "source": [
    "np.average(bz,weights=w) # This will give weighted avg. = sum(Element * weights) / sum(weights)"
   ]
  },
  {
   "cell_type": "code",
   "execution_count": null,
   "id": "b1f5ae47",
   "metadata": {},
   "outputs": [],
   "source": []
  }
 ],
 "metadata": {
  "kernelspec": {
   "display_name": "Python 3 (ipykernel)",
   "language": "python",
   "name": "python3"
  },
  "language_info": {
   "codemirror_mode": {
    "name": "ipython",
    "version": 3
   },
   "file_extension": ".py",
   "mimetype": "text/x-python",
   "name": "python",
   "nbconvert_exporter": "python",
   "pygments_lexer": "ipython3",
   "version": "3.12.4"
  }
 },
 "nbformat": 4,
 "nbformat_minor": 5
}
